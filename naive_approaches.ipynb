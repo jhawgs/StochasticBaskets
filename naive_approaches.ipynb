{
 "cells": [
  {
   "cell_type": "code",
   "execution_count": null,
   "metadata": {},
   "outputs": [],
   "source": [
    "import pickle\n",
    "from functools import partial\n",
    "\n",
    "import numpy as np\n",
    "import pandas as pd\n",
    "import matplotlib.pyplot as plt\n",
    "from tqdm import tqdm\n",
    "from joblib import delayed, Parallel\n",
    "\n",
    "from utils import bracket_0, rfc_W\n",
    "from common import Bracket\n",
    "from seeding import Seeding\n",
    "from mcmc import MetropolisHastingsBracket"
   ]
  },
  {
   "cell_type": "code",
   "execution_count": null,
   "metadata": {},
   "outputs": [],
   "source": [
    "bracket = Bracket.NaiveBracket(bracket_0(), rfc_W())\n",
    "bracket.score()"
   ]
  },
  {
   "cell_type": "code",
   "execution_count": null,
   "metadata": {},
   "outputs": [],
   "source": [
    "mhb = MetropolisHastingsBracket(bracket_0(), win_matrix=rfc_W(), simulate_anneal=True)\n",
    "mhb.run(3000)[-1].score()"
   ]
  },
  {
   "cell_type": "code",
   "execution_count": null,
   "metadata": {},
   "outputs": [],
   "source": [
    "W = rfc_W()\n",
    "b = bracket_0()\n",
    "_i, _j = np.meshgrid(range(64), range(64))\n",
    "mat = np.zeros((64, 64))\n",
    "for (ni, i) in tqdm(list(enumerate(_i))):\n",
    "    for nj, j in enumerate(_j):\n",
    "        mat[ni, nj] = W[b[_i[ni, nj]], b[_j[ni, nj]]]\n",
    "df = pd.DataFrame(mat, columns=[i.name for i in b], index=[i.name + \"_l\" for i in b])\n",
    "df.style.background_gradient(cmap='Blues')"
   ]
  },
  {
   "cell_type": "code",
   "execution_count": null,
   "metadata": {},
   "outputs": [],
   "source": [
    "d = df.T.mean().sort_values()\n",
    "t = [list(filter(lambda x: x.name == i.split(\"_\")[0], b))[0] for i in d.index.tolist()]\n",
    "s = Seeding(t, W)\n",
    "print(s)\n",
    "print(s.mean_variance(iters=100000))\n",
    "print(s.find_maximimum_likelihood_bracket(iters=3000, verbose=True).score())\n",
    "print(s.mlb.depth_error())\n",
    "print(s.mlb.outcome_error(s))"
   ]
  },
  {
   "cell_type": "code",
   "execution_count": null,
   "metadata": {},
   "outputs": [],
   "source": [
    "ncaa_seed = Seeding(Seeding.inverse_arrange(bracket_0()), W)\n",
    "print(ncaa_seed)\n",
    "print(ncaa_seed.mean_variance(iters=100000))\n",
    "print(ncaa_seed.find_maximimum_likelihood_bracket(iters=3000, verbose=True).score())\n",
    "print(ncaa_seed.mlb.depth_error())\n",
    "print(ncaa_seed.mlb.outcome_error(ncaa_seed))"
   ]
  },
  {
   "cell_type": "code",
   "execution_count": null,
   "metadata": {},
   "outputs": [],
   "source": [
    "TOP_K = 100\n",
    "with open(\"./seeding_optim_for_use.pkl\", \"rb\") as doc:\n",
    "    _optimal_seed = pickle.load(doc)\n",
    "optimal_seed = []\n",
    "scores = []\n",
    "for s in _optimal_seed:\n",
    "    if s._score not in scores and s._score is not None:\n",
    "        optimal_seed.append(s)\n",
    "        scores.append(s._score)\n",
    "print(sorted(scores, reverse=True))\n",
    "plt.plot([i._score for i in _optimal_seed])\n",
    "plt.show()\n",
    "optimal_seed = [i[-1] for i in sorted([(i._score if i._score is not None else -1000000, n, i) for n, i in enumerate(optimal_seed)])[-TOP_K:]]\n",
    "for seed in optimal_seed:\n",
    "    seed._score = None\n",
    "    seed.win_matrix = W\n",
    "def mv(x):\n",
    "    return x.mean_variance(iters=100000)\n",
    "scores = Parallel(n_jobs=8)(delayed(partial(x.mean_variance, iters=100000, verbose=False))() for x in tqdm(optimal_seed))#scores = process_map(mv, optimal_seed)#.append(seed.mean_variance(iters=100000))\n",
    "optimal_seed = optimal_seed[np.argmax(scores)]"
   ]
  },
  {
   "cell_type": "code",
   "execution_count": null,
   "metadata": {},
   "outputs": [],
   "source": [
    "optimal_seed.win_matrix = W\n",
    "print(optimal_seed)\n",
    "print(optimal_seed.mean_variance(iters=100000))\n",
    "print(optimal_seed.find_maximimum_likelihood_bracket(iters=3000, verbose=True).score())\n",
    "print(optimal_seed.mlb.depth_error())\n",
    "print(optimal_seed.mlb.outcome_error(optimal_seed))"
   ]
  }
 ],
 "metadata": {
  "kernelspec": {
   "display_name": "algo",
   "language": "python",
   "name": "python3"
  },
  "language_info": {
   "codemirror_mode": {
    "name": "ipython",
    "version": 3
   },
   "file_extension": ".py",
   "mimetype": "text/x-python",
   "name": "python",
   "nbconvert_exporter": "python",
   "pygments_lexer": "ipython3",
   "version": "3.9.18"
  }
 },
 "nbformat": 4,
 "nbformat_minor": 2
}
